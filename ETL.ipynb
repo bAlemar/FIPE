{
 "cells": [
  {
   "cell_type": "code",
   "execution_count": 15,
   "metadata": {},
   "outputs": [],
   "source": [
    "# Iremos extrair os dados do arquivo xlsx e passa nosso banco de dados SQLlite\n",
    "import pandas as pd\n",
    "import sqlite3\n",
    "import os"
   ]
  },
  {
   "cell_type": "code",
   "execution_count": null,
   "metadata": {},
   "outputs": [],
   "source": [
    "# Extração ja foi feita com WebScraping\n",
    "# Nossa problemática então é TL -> Transformar e armazenar/load dos dados.\n"
   ]
  },
  {
   "cell_type": "code",
   "execution_count": null,
   "metadata": {},
   "outputs": [],
   "source": [
    "# Estrategia Analizar um DataFrame cada vez\n",
    "# Basicamente maior desafio é entender as informações que cada modelo de carro traz\n",
    "\n",
    "# Quais características são comum em todos os carros?\n",
    "# Motor ( 1.0, 1.6 etc)\n",
    "# Válvula (8V, 16V)\n",
    "\n",
    "# Colunas comum dos DF:\n",
    "# Mês Referência: Pegar Mês e Ano\n",
    "# Valor\n"
   ]
  },
  {
   "cell_type": "code",
   "execution_count": null,
   "metadata": {},
   "outputs": [],
   "source": [
    "# Eu quero extrair maximo de informações possíveis. Então vou juntar todos os DF e fazer um GroupBy no Modelo para\n",
    "# assim ver os modelos que iremos análisar e quais caracteŕisticas comuns em seus nomes temos...\n",
    "pasta = './dados_FIPE-main/dbs_individuais/'\n",
    "dfs = []\n",
    "for arquivo in os.listdir(pasta):\n",
    "    if arquivo.endswith('.xlsx'):\n",
    "        caminho_arquivo = pasta + arquivo\n",
    "        dfs.append(pd.read_excel(caminho_arquivo))\n",
    "\n",
    "# Concatenar todos os DataFrames\n",
    "df_final = pd.concat(dfs,ignore_index=True)"
   ]
  },
  {
   "cell_type": "code",
   "execution_count": 38,
   "metadata": {},
   "outputs": [
    {
     "data": {
      "text/plain": [
       "array(['3008 Griffe 1.6 Turbo 16V 5p Aut.',\n",
       "       '320iA 2.0 TB M Sport A.Flex/M.Sport 4p',\n",
       "       'A3 Sed. Ambition 2.0 TSFI 220cv S-tronic',\n",
       "       'COMPASS LIMITED 2.0 4x2 Flex 16V Aut.',\n",
       "       'CRUZE LT 1.4 16V Turbo Flex 4p Aut.',\n",
       "       'CRUZE Sport LT 1.4 16V TB Flex 5p Aut.',\n",
       "       'Corolla GLi Upper 1.8 Flex 16V Aut.',\n",
       "       'Creta Attitude 1.6 16V Flex Mec.',\n",
       "       'Fit DX 1.5 Flexone 16V 5p Mec.',\n",
       "       'Focus 1.6 S/SE/SE Plus Flex 8V/16V  5p',\n",
       "       'Fusion SE 2.5 I-VCT Flex 16V Aut.',\n",
       "       'HB20 5 Anos 1.0 Flex 12V Mec.', 'HR-V EX 1.8 Flexone 16V 5p Aut.',\n",
       "       'Hilux SW4 SR 4x2 2.7/ 2.7 Flex 16V Aut.',\n",
       "       'KICKS S 1.6 16V Flex 5p Aut.', 'Ka 1.0 S TiVCT Flex 5p',\n",
       "       'Ka+ Sedan 1.0 SEL TiCVT Flex 4p',\n",
       "       'ONIX HATCH Joy 1.0 8V Flex 5p Mec.',\n",
       "       'PRISMA Sed. Joy/ LS 1.0 8V FlexPower 4p',\n",
       "       'SPACEFOX 1.6 Trendline Total Flex 8v 5p',\n",
       "       'SPIN LS 1.8 8V Econo.Flex 5p Mec.',\n",
       "       'Sentra S 2.0 FlexStart 16V Aut.',\n",
       "       'VOYAGE Comfortline 1.0 T.Flex 12V 4p',\n",
       "       'ix35 2.0 16V 2WD Flex Aut.'], dtype=object)"
      ]
     },
     "execution_count": 38,
     "metadata": {},
     "output_type": "execute_result"
    }
   ],
   "source": [
    "todos_carros = df_final.groupby(['Modelo:']).count().index.values\n",
    "todos_carros"
   ]
  }
 ],
 "metadata": {
  "kernelspec": {
   "display_name": "Python 3",
   "language": "python",
   "name": "python3"
  },
  "language_info": {
   "codemirror_mode": {
    "name": "ipython",
    "version": 3
   },
   "file_extension": ".py",
   "mimetype": "text/x-python",
   "name": "python",
   "nbconvert_exporter": "python",
   "pygments_lexer": "ipython3",
   "version": "3.10.12"
  }
 },
 "nbformat": 4,
 "nbformat_minor": 2
}
